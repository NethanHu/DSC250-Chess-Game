{
 "cells": [
  {
   "cell_type": "code",
   "id": "22ee2c85cbe32b01",
   "metadata": {
    "ExecuteTime": {
     "end_time": "2025-02-25T19:21:04.701002Z",
     "start_time": "2025-02-25T19:21:03.082461Z"
    }
   },
   "source": [
    "import chess\n",
    "\n",
    "import numpy as np\n",
    "import pandas as pd\n",
    "import matplotlib.pyplot as plt\n",
    "#from flatbuffers.packer import float32\n",
    "#from tensorflow.python.keras.backend import learning_phase\n",
    "\n",
    "import encoding_tools as EncodingTools\n",
    "\n",
    "from model import ChessNet\n",
    "from train import train\n",
    "\n",
    "import torch\n",
    "from torch.utils.data import DataLoader, Dataset\n",
    "\n",
    "\n",
    "MODE = \"DEBUG\"  # If in release mode, please comment this line\n",
    "# MODE = \"RELEASE\""
   ],
   "outputs": [],
   "execution_count": 1
  },
  {
   "cell_type": "code",
   "id": "1707963948329279",
   "metadata": {
    "ExecuteTime": {
     "end_time": "2025-02-25T19:22:04.067726Z",
     "start_time": "2025-02-25T19:22:02.841564Z"
    }
   },
   "source": [
    "# Pulling in training data using Pandas\n",
    "train_df = pd.read_csv('datasets/train.csv', index_col='id')\n",
    "\n",
    "train_df = train_df[:10000] if MODE == \"DEBUG\" else train_df[:25000]\n",
    "\n",
    "# We'll also grab the last 1000 examples as a validation set\n",
    "val_df = train_df[-1000:]\n",
    "\n",
    "# We'll stack all our encoded boards into a single numpy array\n",
    "X_train = np.stack(train_df['board'].apply(EncodingTools.encode_fen_string))\n",
    "y_train = train_df['black_score']\n",
    "\n",
    "X_val = np.stack(val_df['board'].apply(EncodingTools.encode_fen_string))\n",
    "y_val = val_df['black_score']"
   ],
   "outputs": [],
   "execution_count": 3
  },
  {
   "cell_type": "code",
   "id": "688166cd",
   "metadata": {
    "ExecuteTime": {
     "end_time": "2025-02-25T19:39:38.418826Z",
     "start_time": "2025-02-25T19:39:38.209935Z"
    }
   },
   "source": [
    "my_train_df = pd.concat([\n",
    "    pd.read_csv('stockfish_data/chess_games_1.csv'),\n",
    "    pd.read_csv('stockfish_data/chess_games_2.csv')]\n",
    ")\n",
    "\n",
    "my_train_df"
   ],
   "outputs": [
    {
     "data": {
      "text/plain": [
       "       GameID  \\\n",
       "0       80000   \n",
       "1       80000   \n",
       "2       80000   \n",
       "3       80000   \n",
       "4       80000   \n",
       "...       ...   \n",
       "99995   89999   \n",
       "99996   89999   \n",
       "99997   89999   \n",
       "99998   89999   \n",
       "99999   89999   \n",
       "\n",
       "                                                                          FEN  \\\n",
       "0      rn1qk1nr/pp2ppbp/2p3p1/3p1b2/3P1B2/2P1P3/PP1Q1PPP/RN2KBNR b KQkq - 2 6   \n",
       "1             rnbqkbnr/pp2pppp/2p5/3p4/3P4/2P5/PPQ1PPPP/RNB1KBNR b KQkq - 1 3   \n",
       "2                1k5r/1p3N1p/p1p1Pnp1/5p2/P3p2P/2P3bN/1P4P1/3K1B1R b - - 4 26   \n",
       "3            1k2r3/1p3N1p/p1p1P1p1/3n1pN1/P3p2P/2P3b1/1P4P1/3K1B1R w - - 7 28   \n",
       "4       r3k1nr/pp2q1bp/2p1Ppp1/3p4/P3b3/2P1P2P/1P1Q1PP1/RN2KBNR w KQkq - 1 12   \n",
       "...                                                                       ...   \n",
       "99995         r3kb1r/pb2qppp/1pN1pn2/1N6/3p4/6P1/PP2PPBP/R1BQ1RK1 w kq - 0 12   \n",
       "99996              2r1kb1r/pq4pp/1p6/1P2Np2/3N1P2/4PP2/P5KP/R2Q1R2 b k - 0 20   \n",
       "99997       rnbqkbnr/pp1p1ppp/4p3/2p5/2P5/5NP1/PP1PPP1P/RNBQKB1R b KQkq - 0 3   \n",
       "99998                   2r5/1q4k1/1pN5/pPb1NQPr/7p/4PP1K/P6P/2R2R2 w - - 1 28   \n",
       "99999       2r1kb1r/pb1q1ppp/1pN1p3/1P1n4/3N1B2/6P1/P3PPBP/R2Q1RK1 b k - 0 15   \n",
       "\n",
       "      BestMove  Winner  \n",
       "0         b8d7       0  \n",
       "1         e7e6       0  \n",
       "2         h8e8       0  \n",
       "3         h1h3       0  \n",
       "4         b1a3       0  \n",
       "...        ...     ...  \n",
       "99995     c6e7       0  \n",
       "99996     c8d8       0  \n",
       "99997     b8c6       0  \n",
       "99998     f5g6       0  \n",
       "99999     f8d6       0  \n",
       "\n",
       "[200000 rows x 4 columns]"
      ],
      "text/html": [
       "<div>\n",
       "<style scoped>\n",
       "    .dataframe tbody tr th:only-of-type {\n",
       "        vertical-align: middle;\n",
       "    }\n",
       "\n",
       "    .dataframe tbody tr th {\n",
       "        vertical-align: top;\n",
       "    }\n",
       "\n",
       "    .dataframe thead th {\n",
       "        text-align: right;\n",
       "    }\n",
       "</style>\n",
       "<table border=\"1\" class=\"dataframe\">\n",
       "  <thead>\n",
       "    <tr style=\"text-align: right;\">\n",
       "      <th></th>\n",
       "      <th>GameID</th>\n",
       "      <th>FEN</th>\n",
       "      <th>BestMove</th>\n",
       "      <th>Winner</th>\n",
       "    </tr>\n",
       "  </thead>\n",
       "  <tbody>\n",
       "    <tr>\n",
       "      <th>0</th>\n",
       "      <td>80000</td>\n",
       "      <td>rn1qk1nr/pp2ppbp/2p3p1/3p1b2/3P1B2/2P1P3/PP1Q1PPP/RN2KBNR b KQkq - 2 6</td>\n",
       "      <td>b8d7</td>\n",
       "      <td>0</td>\n",
       "    </tr>\n",
       "    <tr>\n",
       "      <th>1</th>\n",
       "      <td>80000</td>\n",
       "      <td>rnbqkbnr/pp2pppp/2p5/3p4/3P4/2P5/PPQ1PPPP/RNB1KBNR b KQkq - 1 3</td>\n",
       "      <td>e7e6</td>\n",
       "      <td>0</td>\n",
       "    </tr>\n",
       "    <tr>\n",
       "      <th>2</th>\n",
       "      <td>80000</td>\n",
       "      <td>1k5r/1p3N1p/p1p1Pnp1/5p2/P3p2P/2P3bN/1P4P1/3K1B1R b - - 4 26</td>\n",
       "      <td>h8e8</td>\n",
       "      <td>0</td>\n",
       "    </tr>\n",
       "    <tr>\n",
       "      <th>3</th>\n",
       "      <td>80000</td>\n",
       "      <td>1k2r3/1p3N1p/p1p1P1p1/3n1pN1/P3p2P/2P3b1/1P4P1/3K1B1R w - - 7 28</td>\n",
       "      <td>h1h3</td>\n",
       "      <td>0</td>\n",
       "    </tr>\n",
       "    <tr>\n",
       "      <th>4</th>\n",
       "      <td>80000</td>\n",
       "      <td>r3k1nr/pp2q1bp/2p1Ppp1/3p4/P3b3/2P1P2P/1P1Q1PP1/RN2KBNR w KQkq - 1 12</td>\n",
       "      <td>b1a3</td>\n",
       "      <td>0</td>\n",
       "    </tr>\n",
       "    <tr>\n",
       "      <th>...</th>\n",
       "      <td>...</td>\n",
       "      <td>...</td>\n",
       "      <td>...</td>\n",
       "      <td>...</td>\n",
       "    </tr>\n",
       "    <tr>\n",
       "      <th>99995</th>\n",
       "      <td>89999</td>\n",
       "      <td>r3kb1r/pb2qppp/1pN1pn2/1N6/3p4/6P1/PP2PPBP/R1BQ1RK1 w kq - 0 12</td>\n",
       "      <td>c6e7</td>\n",
       "      <td>0</td>\n",
       "    </tr>\n",
       "    <tr>\n",
       "      <th>99996</th>\n",
       "      <td>89999</td>\n",
       "      <td>2r1kb1r/pq4pp/1p6/1P2Np2/3N1P2/4PP2/P5KP/R2Q1R2 b k - 0 20</td>\n",
       "      <td>c8d8</td>\n",
       "      <td>0</td>\n",
       "    </tr>\n",
       "    <tr>\n",
       "      <th>99997</th>\n",
       "      <td>89999</td>\n",
       "      <td>rnbqkbnr/pp1p1ppp/4p3/2p5/2P5/5NP1/PP1PPP1P/RNBQKB1R b KQkq - 0 3</td>\n",
       "      <td>b8c6</td>\n",
       "      <td>0</td>\n",
       "    </tr>\n",
       "    <tr>\n",
       "      <th>99998</th>\n",
       "      <td>89999</td>\n",
       "      <td>2r5/1q4k1/1pN5/pPb1NQPr/7p/4PP1K/P6P/2R2R2 w - - 1 28</td>\n",
       "      <td>f5g6</td>\n",
       "      <td>0</td>\n",
       "    </tr>\n",
       "    <tr>\n",
       "      <th>99999</th>\n",
       "      <td>89999</td>\n",
       "      <td>2r1kb1r/pb1q1ppp/1pN1p3/1P1n4/3N1B2/6P1/P3PPBP/R2Q1RK1 b k - 0 15</td>\n",
       "      <td>f8d6</td>\n",
       "      <td>0</td>\n",
       "    </tr>\n",
       "  </tbody>\n",
       "</table>\n",
       "<p>200000 rows × 4 columns</p>\n",
       "</div>"
      ]
     },
     "execution_count": 24,
     "metadata": {},
     "output_type": "execute_result"
    }
   ],
   "execution_count": 24
  },
  {
   "cell_type": "code",
   "id": "8226f82fc903906f",
   "metadata": {
    "ExecuteTime": {
     "end_time": "2025-02-25T19:27:25.567673Z",
     "start_time": "2025-02-25T19:27:25.418630Z"
    }
   },
   "source": [
    "# Instantiate the model\n",
    "model = ChessNet()\n",
    "\n",
    "# Move tensors to device if CUDA or MPS is available\n",
    "if torch.cuda.is_available():\n",
    "    device = \"cuda\"\n",
    "# elif torch.mps.is_available():\n",
    "#     device = \"mps\"\n",
    "else:\n",
    "    device = \"cpu\"\n",
    "\n",
    "model = model.to(device)"
   ],
   "outputs": [],
   "execution_count": 17
  },
  {
   "cell_type": "code",
   "id": "71f6a4eefee50736",
   "metadata": {
    "ExecuteTime": {
     "end_time": "2025-02-25T19:27:26.175745Z",
     "start_time": "2025-02-25T19:27:26.153676Z"
    }
   },
   "source": [
    "# Custom Dataset class to handle X and y pairs\n",
    "class ChessDataset(Dataset):\n",
    "    def __init__(self, X, y):\n",
    "        self.X = X\n",
    "        self.y = y\n",
    "\n",
    "    def __len__(self):\n",
    "        return len(self.X)\n",
    "\n",
    "    def __getitem__(self, idx):\n",
    "        return self.X[idx], self.y[idx]\n",
    "\n",
    "DTYPE = torch.float32\n",
    "\n",
    "# Convert training and validation data to PyTorch tensors\n",
    "X_train_tensor = torch.tensor(X_train, dtype=DTYPE)\n",
    "print(\"X_train_tensor shape:\", X_train_tensor.shape) if MODE == \"DEBUG\" else None\n",
    "\n",
    "y_train_tensor = torch.tensor(y_train.values, dtype=DTYPE).unsqueeze(1)  # Add extra dimension for compatibility\n",
    "print(\"Y_train_tensor shape:\", y_train_tensor.shape) if MODE == \"DEBUG\" else None\n",
    "\n",
    "X_val_tensor = torch.tensor(X_val, dtype=DTYPE)\n",
    "print(\"X_val_tensor shape:\", X_val_tensor.shape) if MODE == \"DEBUG\" else None\n",
    "\n",
    "y_val_tensor = torch.tensor(y_val.values, dtype=DTYPE).unsqueeze(1)  # Add extra dimension for compatibility\n",
    "print(\"Y_val_tensor shape:\", y_val_tensor.shape) if MODE == \"DEBUG\" else None\n",
    "\n",
    "# Create Dataset objects for training and validation\n",
    "train_dataset = ChessDataset(X_train_tensor, y_train_tensor)\n",
    "val_dataset = ChessDataset(X_val_tensor, y_val_tensor)\n",
    "\n",
    "# Create DataLoaders for batching\n",
    "batch_size = 256\n",
    "train_loader = DataLoader(train_dataset, batch_size=batch_size, shuffle=True)\n",
    "val_loader = DataLoader(val_dataset, batch_size=batch_size, shuffle=False)\n",
    "\n",
    "X_train_tensor, y_train_tensor = X_train_tensor.to(device), y_train_tensor.to(device)\n",
    "X_val_tensor, y_val_tensor = X_val_tensor.to(device), y_val_tensor.to(device)"
   ],
   "outputs": [
    {
     "name": "stdout",
     "output_type": "stream",
     "text": [
      "X_train_tensor shape: torch.Size([10000, 8, 8, 13])\n",
      "Y_train_tensor shape: torch.Size([10000, 1])\n",
      "X_val_tensor shape: torch.Size([1000, 8, 8, 13])\n",
      "Y_val_tensor shape: torch.Size([1000, 1])\n"
     ]
    }
   ],
   "execution_count": 18
  },
  {
   "cell_type": "code",
   "id": "d2dff1fb779ee71c",
   "metadata": {
    "ExecuteTime": {
     "end_time": "2025-02-25T19:27:31.172558Z",
     "start_time": "2025-02-25T19:27:30.276608Z"
    }
   },
   "source": [
    "from tqdm import tqdm\n",
    "import torch.nn as nn\n",
    "import torch.optim as optim\n",
    "\n",
    "n_epochs = 40\n",
    "learning_rate = 0.001\n",
    "train_losses, val_losses = [], []\n",
    "optimizer = optim.Adam(model.parameters(), lr=learning_rate)\n",
    "loss_fn = nn.MSELoss().to(device)\n",
    "\n",
    "for epoch in range(n_epochs):\n",
    "    model.train()  # Set model to training mode\n",
    "    epoch_train_loss = 0\n",
    "\n",
    "    for X_batch, y_batch in tqdm(train_loader, desc=f\"Epoch {epoch + 1}/{n_epochs} [Training]\"):\n",
    "        X_batch = X_batch.permute(0, 3, 1, 2).to(device)\n",
    "        y_batch = y_batch.to(device)\n",
    "        # Change from [batch_size, height, width, channels] to [batch_size, channels, height, width]\n",
    "        # print(\"X_batch shape:\", X_batch.shape) if MODE == \"DEBUG\" else None\n",
    "        # print(\"Y_batch shape:\", y_batch.shape) if MODE == \"DEBUG\" else None\n",
    "        optimizer.zero_grad()\n",
    "        predictions = model(X_batch)\n",
    "        loss = loss_fn(predictions, y_batch)\n",
    "        loss.backward()\n",
    "        optimizer.step()\n",
    "        epoch_train_loss += loss.item()\n",
    "\n",
    "    # Average training loss for the epoch\n",
    "    train_losses.append(epoch_train_loss / len(train_loader))\n",
    "    print(f\"Epoch {epoch + 1}: Training Loss = {train_losses[-1]}\")\n",
    "\n",
    "    # Validation loop\n",
    "    model.eval()  # Set model to evaluation mode\n",
    "    epoch_val_loss = 0\n",
    "    with torch.no_grad():\n",
    "        for X_batch, y_batch in tqdm(val_loader, desc=f\"Epoch {epoch + 1}/{n_epochs} [Validation]\"):\n",
    "            predictions = model(X_batch)\n",
    "            loss = loss_fn(predictions, y_batch)\n",
    "            epoch_val_loss += loss.item()\n",
    "\n",
    "    # Average validation loss for the epoch\n",
    "    val_losses.append(epoch_val_loss / len(val_loader))\n",
    "    print(f\"Epoch {epoch + 1}: Validation Loss = {val_losses[-1]}\")"
   ],
   "outputs": [
    {
     "name": "stderr",
     "output_type": "stream",
     "text": [
      "Epoch 1/40 [Training]:   0%|          | 0/40 [00:00<?, ?it/s]\n"
     ]
    },
    {
     "name": "stdout",
     "output_type": "stream",
     "text": [
      "torch.Size([256, 13, 8, 8])\n"
     ]
    },
    {
     "ename": "RuntimeError",
     "evalue": "shape '[-1, 22, 8, 8]' is invalid for input of size 212992",
     "output_type": "error",
     "traceback": [
      "\u001B[0;31m---------------------------------------------------------------------------\u001B[0m",
      "\u001B[0;31mRuntimeError\u001B[0m                              Traceback (most recent call last)",
      "Cell \u001B[0;32mIn[19], line 22\u001B[0m\n\u001B[1;32m     18\u001B[0m \u001B[38;5;66;03m# Change from [batch_size, height, width, channels] to [batch_size, channels, height, width]\u001B[39;00m\n\u001B[1;32m     19\u001B[0m \u001B[38;5;66;03m# print(\"X_batch shape:\", X_batch.shape) if MODE == \"DEBUG\" else None\u001B[39;00m\n\u001B[1;32m     20\u001B[0m \u001B[38;5;66;03m# print(\"Y_batch shape:\", y_batch.shape) if MODE == \"DEBUG\" else None\u001B[39;00m\n\u001B[1;32m     21\u001B[0m optimizer\u001B[38;5;241m.\u001B[39mzero_grad()\n\u001B[0;32m---> 22\u001B[0m predictions \u001B[38;5;241m=\u001B[39m \u001B[43mmodel\u001B[49m\u001B[43m(\u001B[49m\u001B[43mX_batch\u001B[49m\u001B[43m)\u001B[49m\n\u001B[1;32m     23\u001B[0m loss \u001B[38;5;241m=\u001B[39m loss_fn(predictions, y_batch)\n\u001B[1;32m     24\u001B[0m loss\u001B[38;5;241m.\u001B[39mbackward()\n",
      "File \u001B[0;32m/opt/anaconda3/envs/chess/lib/python3.10/site-packages/torch/nn/modules/module.py:1739\u001B[0m, in \u001B[0;36mModule._wrapped_call_impl\u001B[0;34m(self, *args, **kwargs)\u001B[0m\n\u001B[1;32m   1737\u001B[0m     \u001B[38;5;28;01mreturn\u001B[39;00m \u001B[38;5;28mself\u001B[39m\u001B[38;5;241m.\u001B[39m_compiled_call_impl(\u001B[38;5;241m*\u001B[39margs, \u001B[38;5;241m*\u001B[39m\u001B[38;5;241m*\u001B[39mkwargs)  \u001B[38;5;66;03m# type: ignore[misc]\u001B[39;00m\n\u001B[1;32m   1738\u001B[0m \u001B[38;5;28;01melse\u001B[39;00m:\n\u001B[0;32m-> 1739\u001B[0m     \u001B[38;5;28;01mreturn\u001B[39;00m \u001B[38;5;28;43mself\u001B[39;49m\u001B[38;5;241;43m.\u001B[39;49m\u001B[43m_call_impl\u001B[49m\u001B[43m(\u001B[49m\u001B[38;5;241;43m*\u001B[39;49m\u001B[43margs\u001B[49m\u001B[43m,\u001B[49m\u001B[43m \u001B[49m\u001B[38;5;241;43m*\u001B[39;49m\u001B[38;5;241;43m*\u001B[39;49m\u001B[43mkwargs\u001B[49m\u001B[43m)\u001B[49m\n",
      "File \u001B[0;32m/opt/anaconda3/envs/chess/lib/python3.10/site-packages/torch/nn/modules/module.py:1750\u001B[0m, in \u001B[0;36mModule._call_impl\u001B[0;34m(self, *args, **kwargs)\u001B[0m\n\u001B[1;32m   1745\u001B[0m \u001B[38;5;66;03m# If we don't have any hooks, we want to skip the rest of the logic in\u001B[39;00m\n\u001B[1;32m   1746\u001B[0m \u001B[38;5;66;03m# this function, and just call forward.\u001B[39;00m\n\u001B[1;32m   1747\u001B[0m \u001B[38;5;28;01mif\u001B[39;00m \u001B[38;5;129;01mnot\u001B[39;00m (\u001B[38;5;28mself\u001B[39m\u001B[38;5;241m.\u001B[39m_backward_hooks \u001B[38;5;129;01mor\u001B[39;00m \u001B[38;5;28mself\u001B[39m\u001B[38;5;241m.\u001B[39m_backward_pre_hooks \u001B[38;5;129;01mor\u001B[39;00m \u001B[38;5;28mself\u001B[39m\u001B[38;5;241m.\u001B[39m_forward_hooks \u001B[38;5;129;01mor\u001B[39;00m \u001B[38;5;28mself\u001B[39m\u001B[38;5;241m.\u001B[39m_forward_pre_hooks\n\u001B[1;32m   1748\u001B[0m         \u001B[38;5;129;01mor\u001B[39;00m _global_backward_pre_hooks \u001B[38;5;129;01mor\u001B[39;00m _global_backward_hooks\n\u001B[1;32m   1749\u001B[0m         \u001B[38;5;129;01mor\u001B[39;00m _global_forward_hooks \u001B[38;5;129;01mor\u001B[39;00m _global_forward_pre_hooks):\n\u001B[0;32m-> 1750\u001B[0m     \u001B[38;5;28;01mreturn\u001B[39;00m \u001B[43mforward_call\u001B[49m\u001B[43m(\u001B[49m\u001B[38;5;241;43m*\u001B[39;49m\u001B[43margs\u001B[49m\u001B[43m,\u001B[49m\u001B[43m \u001B[49m\u001B[38;5;241;43m*\u001B[39;49m\u001B[38;5;241;43m*\u001B[39;49m\u001B[43mkwargs\u001B[49m\u001B[43m)\u001B[49m\n\u001B[1;32m   1752\u001B[0m result \u001B[38;5;241m=\u001B[39m \u001B[38;5;28;01mNone\u001B[39;00m\n\u001B[1;32m   1753\u001B[0m called_always_called_hooks \u001B[38;5;241m=\u001B[39m \u001B[38;5;28mset\u001B[39m()\n",
      "File \u001B[0;32m~/PycharmProjects/DSC250Project/model.py:119\u001B[0m, in \u001B[0;36mChessNet.forward\u001B[0;34m(self, s)\u001B[0m\n\u001B[1;32m    116\u001B[0m \u001B[38;5;28;01mdef\u001B[39;00m \u001B[38;5;21mforward\u001B[39m(\u001B[38;5;28mself\u001B[39m,s):\n\u001B[1;32m    117\u001B[0m     \u001B[38;5;66;03m# 来自于数据集，经过 BoardData 数据加载器加载后的数据\u001B[39;00m\n\u001B[1;32m    118\u001B[0m     \u001B[38;5;66;03m# 一开始的形状可能是 (batch_size, 22, 8, 8)\u001B[39;00m\n\u001B[0;32m--> 119\u001B[0m     s \u001B[38;5;241m=\u001B[39m \u001B[38;5;28;43mself\u001B[39;49m\u001B[38;5;241;43m.\u001B[39;49m\u001B[43mconv\u001B[49m\u001B[43m(\u001B[49m\u001B[43ms\u001B[49m\u001B[43m)\u001B[49m\n\u001B[1;32m    120\u001B[0m     \u001B[38;5;66;03m# 经过 ConvBlock 之后 (batch_size, 22, 8, 8) -> (batch_size, 256, 8, 8)\u001B[39;00m\n\u001B[1;32m    121\u001B[0m     \u001B[38;5;28;01mfor\u001B[39;00m block \u001B[38;5;129;01min\u001B[39;00m \u001B[38;5;28mrange\u001B[39m(\u001B[38;5;241m19\u001B[39m):\n\u001B[1;32m    122\u001B[0m         \u001B[38;5;66;03m# 定义 19 层的 ResNet，但是每层都不会添加新的通道数\u001B[39;00m\n\u001B[1;32m    123\u001B[0m         \u001B[38;5;66;03m# (batch_size, 256, 8, 8) -> (batch_size, 256, 8, 8)\u001B[39;00m\n",
      "File \u001B[0;32m/opt/anaconda3/envs/chess/lib/python3.10/site-packages/torch/nn/modules/module.py:1739\u001B[0m, in \u001B[0;36mModule._wrapped_call_impl\u001B[0;34m(self, *args, **kwargs)\u001B[0m\n\u001B[1;32m   1737\u001B[0m     \u001B[38;5;28;01mreturn\u001B[39;00m \u001B[38;5;28mself\u001B[39m\u001B[38;5;241m.\u001B[39m_compiled_call_impl(\u001B[38;5;241m*\u001B[39margs, \u001B[38;5;241m*\u001B[39m\u001B[38;5;241m*\u001B[39mkwargs)  \u001B[38;5;66;03m# type: ignore[misc]\u001B[39;00m\n\u001B[1;32m   1738\u001B[0m \u001B[38;5;28;01melse\u001B[39;00m:\n\u001B[0;32m-> 1739\u001B[0m     \u001B[38;5;28;01mreturn\u001B[39;00m \u001B[38;5;28;43mself\u001B[39;49m\u001B[38;5;241;43m.\u001B[39;49m\u001B[43m_call_impl\u001B[49m\u001B[43m(\u001B[49m\u001B[38;5;241;43m*\u001B[39;49m\u001B[43margs\u001B[49m\u001B[43m,\u001B[49m\u001B[43m \u001B[49m\u001B[38;5;241;43m*\u001B[39;49m\u001B[38;5;241;43m*\u001B[39;49m\u001B[43mkwargs\u001B[49m\u001B[43m)\u001B[49m\n",
      "File \u001B[0;32m/opt/anaconda3/envs/chess/lib/python3.10/site-packages/torch/nn/modules/module.py:1750\u001B[0m, in \u001B[0;36mModule._call_impl\u001B[0;34m(self, *args, **kwargs)\u001B[0m\n\u001B[1;32m   1745\u001B[0m \u001B[38;5;66;03m# If we don't have any hooks, we want to skip the rest of the logic in\u001B[39;00m\n\u001B[1;32m   1746\u001B[0m \u001B[38;5;66;03m# this function, and just call forward.\u001B[39;00m\n\u001B[1;32m   1747\u001B[0m \u001B[38;5;28;01mif\u001B[39;00m \u001B[38;5;129;01mnot\u001B[39;00m (\u001B[38;5;28mself\u001B[39m\u001B[38;5;241m.\u001B[39m_backward_hooks \u001B[38;5;129;01mor\u001B[39;00m \u001B[38;5;28mself\u001B[39m\u001B[38;5;241m.\u001B[39m_backward_pre_hooks \u001B[38;5;129;01mor\u001B[39;00m \u001B[38;5;28mself\u001B[39m\u001B[38;5;241m.\u001B[39m_forward_hooks \u001B[38;5;129;01mor\u001B[39;00m \u001B[38;5;28mself\u001B[39m\u001B[38;5;241m.\u001B[39m_forward_pre_hooks\n\u001B[1;32m   1748\u001B[0m         \u001B[38;5;129;01mor\u001B[39;00m _global_backward_pre_hooks \u001B[38;5;129;01mor\u001B[39;00m _global_backward_hooks\n\u001B[1;32m   1749\u001B[0m         \u001B[38;5;129;01mor\u001B[39;00m _global_forward_hooks \u001B[38;5;129;01mor\u001B[39;00m _global_forward_pre_hooks):\n\u001B[0;32m-> 1750\u001B[0m     \u001B[38;5;28;01mreturn\u001B[39;00m \u001B[43mforward_call\u001B[49m\u001B[43m(\u001B[49m\u001B[38;5;241;43m*\u001B[39;49m\u001B[43margs\u001B[49m\u001B[43m,\u001B[49m\u001B[43m \u001B[49m\u001B[38;5;241;43m*\u001B[39;49m\u001B[38;5;241;43m*\u001B[39;49m\u001B[43mkwargs\u001B[49m\u001B[43m)\u001B[49m\n\u001B[1;32m   1752\u001B[0m result \u001B[38;5;241m=\u001B[39m \u001B[38;5;28;01mNone\u001B[39;00m\n\u001B[1;32m   1753\u001B[0m called_always_called_hooks \u001B[38;5;241m=\u001B[39m \u001B[38;5;28mset\u001B[39m()\n",
      "File \u001B[0;32m~/PycharmProjects/DSC250Project/model.py:48\u001B[0m, in \u001B[0;36mConvBlock.forward\u001B[0;34m(self, s)\u001B[0m\n\u001B[1;32m     45\u001B[0m \u001B[38;5;28mprint\u001B[39m(s\u001B[38;5;241m.\u001B[39mshape)\n\u001B[1;32m     46\u001B[0m \u001B[38;5;66;03m# s = s.reshape(-1, 13, 8, 8)  # batch_size x channels x board_x x board_y\u001B[39;00m\n\u001B[1;32m     47\u001B[0m \u001B[38;5;66;03m# s = F.relu(self.bn0(self.conv0(s)))\u001B[39;00m\n\u001B[0;32m---> 48\u001B[0m s \u001B[38;5;241m=\u001B[39m \u001B[43ms\u001B[49m\u001B[38;5;241;43m.\u001B[39;49m\u001B[43mreshape\u001B[49m\u001B[43m(\u001B[49m\u001B[38;5;241;43m-\u001B[39;49m\u001B[38;5;241;43m1\u001B[39;49m\u001B[43m,\u001B[49m\u001B[43m \u001B[49m\u001B[38;5;241;43m22\u001B[39;49m\u001B[43m,\u001B[49m\u001B[43m \u001B[49m\u001B[38;5;241;43m8\u001B[39;49m\u001B[43m,\u001B[49m\u001B[43m \u001B[49m\u001B[38;5;241;43m8\u001B[39;49m\u001B[43m)\u001B[49m  \u001B[38;5;66;03m# batch_size x channels x board_x x board_y\u001B[39;00m\n\u001B[1;32m     49\u001B[0m s \u001B[38;5;241m=\u001B[39m F\u001B[38;5;241m.\u001B[39mrelu(\u001B[38;5;28mself\u001B[39m\u001B[38;5;241m.\u001B[39mbn1(\u001B[38;5;28mself\u001B[39m\u001B[38;5;241m.\u001B[39mconv1(s)))\n\u001B[1;32m     50\u001B[0m \u001B[38;5;28;01mreturn\u001B[39;00m s\n",
      "\u001B[0;31mRuntimeError\u001B[0m: shape '[-1, 22, 8, 8]' is invalid for input of size 212992"
     ]
    }
   ],
   "execution_count": 19
  },
  {
   "cell_type": "code",
   "id": "c9aebafac7b79c3c",
   "metadata": {},
   "source": [
    "# Plotting results (optional)\n",
    "plt.style.use('ggplot')\n",
    "plt.plot(train_losses, label='Train Loss')\n",
    "plt.plot(val_losses, label='Validation Loss')\n",
    "plt.legend()\n",
    "plt.title('Loss During Training')\n",
    "plt.show()"
   ],
   "outputs": [],
   "execution_count": null
  },
  {
   "cell_type": "code",
   "execution_count": null,
   "id": "7ab0aa49445de11a",
   "metadata": {},
   "outputs": [],
   "source": [
    "# Implementing our model as a function\n",
    "def play_nn(fen, show_move_evaluations=False):\n",
    "    # We can create a python-chess board instance from the FEN string like this:\n",
    "    board = chess.Board(fen=fen)\n",
    "\n",
    "    # And then evaluate all legal moves\n",
    "    moves = []\n",
    "    input_vectors = []\n",
    "    for move in board.legal_moves:\n",
    "        # For each move, we'll make a copy of the board and try that move out\n",
    "        candidate_board = board.copy()\n",
    "        candidate_board.push(move)\n",
    "        moves.append(move)\n",
    "        input_vectors.append(EncodingTools.encode_board(str(candidate_board)).astype(np.int32).flatten())\n",
    "\n",
    "    input_vectors = np.stack(input_vectors)\n",
    "    # This is where our model gets to shine! It tells us how good the resultant score board is for black:\n",
    "    scores = model.predict(input_vectors, verbose=0)\n",
    "    # argmax gives us the index of the highest scoring move\n",
    "    if board.turn == chess.BLACK:\n",
    "        index_of_best_move = np.argmax(scores)\n",
    "    else:\n",
    "        # If we're playing as white, we want black's score to be as small as possible, so we take argmax of the negative of our array\n",
    "        index_of_best_move = np.argmax(-scores)\n",
    "\n",
    "    if show_move_evaluations:\n",
    "        print(zip(moves, scores))\n",
    "\n",
    "    best_move = moves[index_of_best_move]\n",
    "\n",
    "    # Now we turn our move into a string, return it and call it a day!\n",
    "    return str(best_move)"
   ]
  },
  {
   "cell_type": "code",
   "execution_count": null,
   "id": "40163132028dcc88",
   "metadata": {},
   "outputs": [],
   "source": [
    "# Now we'll import our test set, and make some final predictions!\n",
    "\n",
    "test_df = pd.read_csv('datasets/test.csv')\n",
    "\n",
    "test_df.head()"
   ]
  },
  {
   "cell_type": "code",
   "execution_count": null,
   "id": "bdc8a49c80de29d5",
   "metadata": {},
   "outputs": [],
   "source": [
    "# Making all of our predictions happens in this one line!\n",
    "# We're basically saying \"run play_nn on all the boards in the test_df, and then keep the results as best_move\"\n",
    "# Because this invovles running our model a _ton_ this step will take a while.\n",
    "\n",
    "test_df['best_move'] = test_df['board'].apply(play_nn)"
   ]
  },
  {
   "cell_type": "code",
   "execution_count": null,
   "id": "1b12d23e2131c648",
   "metadata": {},
   "outputs": [],
   "source": [
    "test_df['best_move']"
   ]
  },
  {
   "cell_type": "code",
   "execution_count": null,
   "id": "de3782225dd02164",
   "metadata": {},
   "outputs": [],
   "source": [
    "# Let's make sure our submission looks like the sample submission\n",
    "submission = test_df[['id', 'best_move']]\n",
    "print(submission.head())\n",
    "\n",
    "sample_submission = pd.read_csv('datasets/sample_submission.csv', index_col='id')\n",
    "print(sample_submission.head())"
   ]
  },
  {
   "cell_type": "code",
   "execution_count": null,
   "id": "ca223917f27396f0",
   "metadata": {},
   "outputs": [],
   "source": [
    "# We should not output the submission file\n",
    "# submission.to_csv('submission.csv', index=False)"
   ]
  },
  {
   "cell_type": "code",
   "execution_count": null,
   "id": "5074d92b94c55a2d",
   "metadata": {},
   "outputs": [],
   "source": []
  }
 ],
 "metadata": {
  "kernelspec": {
   "display_name": "warm-up",
   "language": "python",
   "name": "python3"
  },
  "language_info": {
   "codemirror_mode": {
    "name": "ipython",
    "version": 3
   },
   "file_extension": ".py",
   "mimetype": "text/x-python",
   "name": "python",
   "nbconvert_exporter": "python",
   "pygments_lexer": "ipython3",
   "version": "3.10.15"
  }
 },
 "nbformat": 5,
 "nbformat_minor": 9
}
