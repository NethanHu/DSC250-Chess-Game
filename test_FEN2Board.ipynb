{
 "cells": [
  {
   "cell_type": "code",
   "execution_count": 1,
   "metadata": {},
   "outputs": [],
   "source": [
    "import chess_board\n",
    "import chess\n",
    "import numpy as np\n",
    "import pandas as pd\n",
    "from FEN_to_chessboard import FenToChessBoard\n",
    "import encoder_decoder as ed"
   ]
  },
  {
   "cell_type": "code",
   "execution_count": 6,
   "metadata": {},
   "outputs": [
    {
     "data": {
      "text/plain": [
       "<chess_board.board at 0x7f9a82a25870>"
      ]
     },
     "execution_count": 6,
     "metadata": {},
     "output_type": "execute_result"
    }
   ],
   "source": [
    "FEN_sample = \"rn1qk1nr/pp2ppbp/2p3p1/3p1b2/3P1B2/2P1P3/PP1Q1PPP/RN2KBNR b KQkq - 2 6\"\n",
    "\n",
    "board = FenToChessBoard.fen_to_board(FEN_sample)\n",
    "board"
   ]
  },
  {
   "cell_type": "code",
   "execution_count": null,
   "metadata": {},
   "outputs": [],
   "source": [
    "#sample = ed.encode_board(board).reshape(1, 22, 8, 8)"
   ]
  },
  {
   "cell_type": "code",
   "execution_count": 4,
   "metadata": {},
   "outputs": [],
   "source": [
    "from model import ChessNet\n",
    "model = ChessNet()"
   ]
  },
  {
   "cell_type": "code",
   "execution_count": 3,
   "metadata": {},
   "outputs": [],
   "source": [
    "import torch\n",
    "import torch.nn as nn\n",
    "import torch.nn.functional as F\n",
    "#sample = torch.tensor(sample).to(torch.float32)"
   ]
  },
  {
   "cell_type": "code",
   "execution_count": null,
   "metadata": {},
   "outputs": [],
   "source": [
    "\n",
    "\n",
    "init, final = move_to_pos(\"b8d7\")\n",
    "\n",
    "move = ed.encode_action(board,init,final,None)"
   ]
  },
  {
   "cell_type": "code",
   "execution_count": null,
   "metadata": {},
   "outputs": [],
   "source": [
    "def square_to_index(square):\n",
    "    file = ord(square[0]) - ord('a')  # a-h -> 0-7\n",
    "    rank = 8 - int(square[1])  # 1-8 -> 7-0\n",
    "    return rank, file\n",
    "\n",
    "def move_to_pos(move):\n",
    "    init = square_to_index(move[:2])\n",
    "    final = square_to_index(move[2:])\n",
    "    return init, final\n",
    "\n",
    "def move_on_board(board, move):\n",
    "    \"\"\"\n",
    "    Board: chess_board.board\n",
    "    Move: string\n",
    "    \"\"\"\n",
    "    init, final = move_to_pos(move)\n",
    "    move = encode_action(board,init,final,None)\n",
    "    return move"
   ]
  },
  {
   "cell_type": "code",
   "execution_count": 11,
   "metadata": {},
   "outputs": [
    {
     "data": {
      "text/plain": [
       "np.int64(136)"
      ]
     },
     "execution_count": 11,
     "metadata": {},
     "output_type": "execute_result"
    }
   ],
   "source": [
    "move"
   ]
  },
  {
   "cell_type": "code",
   "execution_count": 12,
   "metadata": {},
   "outputs": [
    {
     "data": {
      "text/plain": [
       "4672"
      ]
     },
     "execution_count": 12,
     "metadata": {},
     "output_type": "execute_result"
    }
   ],
   "source": [
    "8*8*73"
   ]
  }
 ],
 "metadata": {
  "kernelspec": {
   "display_name": "warm-up",
   "language": "python",
   "name": "python3"
  },
  "language_info": {
   "codemirror_mode": {
    "name": "ipython",
    "version": 3
   },
   "file_extension": ".py",
   "mimetype": "text/x-python",
   "name": "python",
   "nbconvert_exporter": "python",
   "pygments_lexer": "ipython3",
   "version": "3.10.15"
  }
 },
 "nbformat": 4,
 "nbformat_minor": 2
}
